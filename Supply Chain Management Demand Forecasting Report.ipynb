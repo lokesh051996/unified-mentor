{
 "cells": [
  {
   "cell_type": "markdown",
   "id": "09709630-8551-4f56-84ba-fa71b8b9457a",
   "metadata": {},
   "source": [
    "Supply Chain Management Demand Forecasting Report"
   ]
  },
  {
   "cell_type": "markdown",
   "id": "3a63252d-088e-4587-823a-dbca6dbe387d",
   "metadata": {},
   "source": [
    "Project Overview The goal of this project is to implement a machine learning model to optimize supply chain management. This can involve various tasks such as demand forecasting, inventory optimization, supplier selection, and transportation planning. We'll focus on a demand forecasting model, which is a critical component in supply chain management"
   ]
  },
  {
   "cell_type": "markdown",
   "id": "c3e09b49-2e09-45a5-91f0-d2f02139fd71",
   "metadata": {},
   "source": [
    "First, import the necessary libraries and load the dataset"
   ]
  },
  {
   "cell_type": "code",
   "execution_count": 7,
   "id": "68de0010-7c7e-4546-9333-e7ae4b12d309",
   "metadata": {},
   "outputs": [],
   "source": [
    "import pandas as pd\n",
    "import numpy as np\n",
    "import matplotlib.pyplot as plt\n",
    "import seaborn as sns\n",
    "from sklearn.model_selection import train_test_split\n",
    "from sklearn.preprocessing import StandardScaler\n",
    "from sklearn.metrics import mean_squared_error"
   ]
  },
  {
   "cell_type": "code",
   "execution_count": 2,
   "id": "5de8fb73-2d8d-4603-aa14-deae1a9e7ac0",
   "metadata": {},
   "outputs": [
    {
     "name": "stdout",
     "output_type": "stream",
     "text": [
      "Requirement already satisfied: tensorflow in c:\\users\\05lok\\anaconda3\\lib\\site-packages (2.17.0)\n",
      "Requirement already satisfied: tensorflow-intel==2.17.0 in c:\\users\\05lok\\anaconda3\\lib\\site-packages (from tensorflow) (2.17.0)\n",
      "Requirement already satisfied: absl-py>=1.0.0 in c:\\users\\05lok\\anaconda3\\lib\\site-packages (from tensorflow-intel==2.17.0->tensorflow) (2.1.0)\n",
      "Requirement already satisfied: astunparse>=1.6.0 in c:\\users\\05lok\\anaconda3\\lib\\site-packages (from tensorflow-intel==2.17.0->tensorflow) (1.6.3)\n",
      "Requirement already satisfied: flatbuffers>=24.3.25 in c:\\users\\05lok\\anaconda3\\lib\\site-packages (from tensorflow-intel==2.17.0->tensorflow) (24.3.25)\n",
      "Requirement already satisfied: gast!=0.5.0,!=0.5.1,!=0.5.2,>=0.2.1 in c:\\users\\05lok\\anaconda3\\lib\\site-packages (from tensorflow-intel==2.17.0->tensorflow) (0.6.0)\n",
      "Requirement already satisfied: google-pasta>=0.1.1 in c:\\users\\05lok\\anaconda3\\lib\\site-packages (from tensorflow-intel==2.17.0->tensorflow) (0.2.0)\n",
      "Requirement already satisfied: h5py>=3.10.0 in c:\\users\\05lok\\anaconda3\\lib\\site-packages (from tensorflow-intel==2.17.0->tensorflow) (3.11.0)\n",
      "Requirement already satisfied: libclang>=13.0.0 in c:\\users\\05lok\\anaconda3\\lib\\site-packages (from tensorflow-intel==2.17.0->tensorflow) (18.1.1)\n",
      "Requirement already satisfied: ml-dtypes<0.5.0,>=0.3.1 in c:\\users\\05lok\\anaconda3\\lib\\site-packages (from tensorflow-intel==2.17.0->tensorflow) (0.4.0)\n",
      "Requirement already satisfied: opt-einsum>=2.3.2 in c:\\users\\05lok\\anaconda3\\lib\\site-packages (from tensorflow-intel==2.17.0->tensorflow) (3.3.0)\n",
      "Requirement already satisfied: packaging in c:\\users\\05lok\\anaconda3\\lib\\site-packages (from tensorflow-intel==2.17.0->tensorflow) (23.1)\n",
      "Requirement already satisfied: protobuf!=4.21.0,!=4.21.1,!=4.21.2,!=4.21.3,!=4.21.4,!=4.21.5,<5.0.0dev,>=3.20.3 in c:\\users\\05lok\\anaconda3\\lib\\site-packages (from tensorflow-intel==2.17.0->tensorflow) (3.20.3)\n",
      "Requirement already satisfied: requests<3,>=2.21.0 in c:\\users\\05lok\\anaconda3\\lib\\site-packages (from tensorflow-intel==2.17.0->tensorflow) (2.31.0)\n",
      "Requirement already satisfied: setuptools in c:\\users\\05lok\\anaconda3\\lib\\site-packages (from tensorflow-intel==2.17.0->tensorflow) (68.2.2)\n",
      "Requirement already satisfied: six>=1.12.0 in c:\\users\\05lok\\anaconda3\\lib\\site-packages (from tensorflow-intel==2.17.0->tensorflow) (1.16.0)\n",
      "Requirement already satisfied: termcolor>=1.1.0 in c:\\users\\05lok\\anaconda3\\lib\\site-packages (from tensorflow-intel==2.17.0->tensorflow) (2.4.0)\n",
      "Requirement already satisfied: typing-extensions>=3.6.6 in c:\\users\\05lok\\anaconda3\\lib\\site-packages (from tensorflow-intel==2.17.0->tensorflow) (4.9.0)\n",
      "Requirement already satisfied: wrapt>=1.11.0 in c:\\users\\05lok\\anaconda3\\lib\\site-packages (from tensorflow-intel==2.17.0->tensorflow) (1.14.1)\n",
      "Requirement already satisfied: grpcio<2.0,>=1.24.3 in c:\\users\\05lok\\anaconda3\\lib\\site-packages (from tensorflow-intel==2.17.0->tensorflow) (1.64.1)\n",
      "Requirement already satisfied: tensorboard<2.18,>=2.17 in c:\\users\\05lok\\anaconda3\\lib\\site-packages (from tensorflow-intel==2.17.0->tensorflow) (2.17.0)\n",
      "Requirement already satisfied: keras>=3.2.0 in c:\\users\\05lok\\anaconda3\\lib\\site-packages (from tensorflow-intel==2.17.0->tensorflow) (3.4.1)\n",
      "Requirement already satisfied: tensorflow-io-gcs-filesystem>=0.23.1 in c:\\users\\05lok\\anaconda3\\lib\\site-packages (from tensorflow-intel==2.17.0->tensorflow) (0.31.0)\n",
      "Requirement already satisfied: numpy<2.0.0,>=1.23.5 in c:\\users\\05lok\\anaconda3\\lib\\site-packages (from tensorflow-intel==2.17.0->tensorflow) (1.26.4)\n",
      "Requirement already satisfied: wheel<1.0,>=0.23.0 in c:\\users\\05lok\\anaconda3\\lib\\site-packages (from astunparse>=1.6.0->tensorflow-intel==2.17.0->tensorflow) (0.41.2)\n",
      "Requirement already satisfied: rich in c:\\users\\05lok\\anaconda3\\lib\\site-packages (from keras>=3.2.0->tensorflow-intel==2.17.0->tensorflow) (13.3.5)\n",
      "Requirement already satisfied: namex in c:\\users\\05lok\\anaconda3\\lib\\site-packages (from keras>=3.2.0->tensorflow-intel==2.17.0->tensorflow) (0.0.8)\n",
      "Requirement already satisfied: optree in c:\\users\\05lok\\anaconda3\\lib\\site-packages (from keras>=3.2.0->tensorflow-intel==2.17.0->tensorflow) (0.12.1)\n",
      "Requirement already satisfied: charset-normalizer<4,>=2 in c:\\users\\05lok\\anaconda3\\lib\\site-packages (from requests<3,>=2.21.0->tensorflow-intel==2.17.0->tensorflow) (2.0.4)\n",
      "Requirement already satisfied: idna<4,>=2.5 in c:\\users\\05lok\\anaconda3\\lib\\site-packages (from requests<3,>=2.21.0->tensorflow-intel==2.17.0->tensorflow) (3.4)\n",
      "Requirement already satisfied: urllib3<3,>=1.21.1 in c:\\users\\05lok\\anaconda3\\lib\\site-packages (from requests<3,>=2.21.0->tensorflow-intel==2.17.0->tensorflow) (2.0.7)\n",
      "Requirement already satisfied: certifi>=2017.4.17 in c:\\users\\05lok\\anaconda3\\lib\\site-packages (from requests<3,>=2.21.0->tensorflow-intel==2.17.0->tensorflow) (2024.7.4)\n",
      "Requirement already satisfied: markdown>=2.6.8 in c:\\users\\05lok\\anaconda3\\lib\\site-packages (from tensorboard<2.18,>=2.17->tensorflow-intel==2.17.0->tensorflow) (3.4.1)\n",
      "Requirement already satisfied: tensorboard-data-server<0.8.0,>=0.7.0 in c:\\users\\05lok\\anaconda3\\lib\\site-packages (from tensorboard<2.18,>=2.17->tensorflow-intel==2.17.0->tensorflow) (0.7.2)\n",
      "Requirement already satisfied: werkzeug>=1.0.1 in c:\\users\\05lok\\anaconda3\\lib\\site-packages (from tensorboard<2.18,>=2.17->tensorflow-intel==2.17.0->tensorflow) (2.2.3)\n",
      "Requirement already satisfied: MarkupSafe>=2.1.1 in c:\\users\\05lok\\anaconda3\\lib\\site-packages (from werkzeug>=1.0.1->tensorboard<2.18,>=2.17->tensorflow-intel==2.17.0->tensorflow) (2.1.3)\n",
      "Requirement already satisfied: markdown-it-py<3.0.0,>=2.2.0 in c:\\users\\05lok\\anaconda3\\lib\\site-packages (from rich->keras>=3.2.0->tensorflow-intel==2.17.0->tensorflow) (2.2.0)\n",
      "Requirement already satisfied: pygments<3.0.0,>=2.13.0 in c:\\users\\05lok\\anaconda3\\lib\\site-packages (from rich->keras>=3.2.0->tensorflow-intel==2.17.0->tensorflow) (2.15.1)\n",
      "Requirement already satisfied: mdurl~=0.1 in c:\\users\\05lok\\anaconda3\\lib\\site-packages (from markdown-it-py<3.0.0,>=2.2.0->rich->keras>=3.2.0->tensorflow-intel==2.17.0->tensorflow) (0.1.0)\n"
     ]
    }
   ],
   "source": [
    "!pip install tensorflow"
   ]
  },
  {
   "cell_type": "code",
   "execution_count": 5,
   "id": "f6b74a44-39ba-4177-b277-51dbbe19358b",
   "metadata": {},
   "outputs": [],
   "source": [
    "import tensorflow as tf"
   ]
  },
  {
   "cell_type": "code",
   "execution_count": 6,
   "id": "d17502ea-48a6-4426-88bd-c49343866abe",
   "metadata": {},
   "outputs": [],
   "source": [
    "from tensorflow import keras\n",
    "from tensorflow.keras import layers"
   ]
  },
  {
   "cell_type": "code",
   "execution_count": 8,
   "id": "8630acc4-4d4a-4f07-8cd8-d602874ee70f",
   "metadata": {},
   "outputs": [],
   "source": [
    "# Load the dataset\n",
    "data = pd.read_csv('C:\\\\Users\\\\05lok\\\\OneDrive\\\\Desktop\\\\supply chain .csv')"
   ]
  },
  {
   "cell_type": "code",
   "execution_count": 9,
   "id": "d02e80a3-d4b2-4c23-a2d1-ae5971d2e700",
   "metadata": {},
   "outputs": [
    {
     "name": "stdout",
     "output_type": "stream",
     "text": [
      "   index             Order ID      Date                        Status  \\\n",
      "0      0  405-8078784-5731545  04-30-22                     Cancelled   \n",
      "1      1  171-9198151-1101146  04-30-22  Shipped - Delivered to Buyer   \n",
      "2      2  404-0687676-7273146  04-30-22                       Shipped   \n",
      "3      3  403-9615377-8133951  04-30-22                     Cancelled   \n",
      "4      4  407-1069790-7240320  04-30-22                       Shipped   \n",
      "\n",
      "  Fulfilment Sales Channel  ship-service-level    Style              SKU  \\\n",
      "0   Merchant      Amazon.in           Standard   SET389   SET389-KR-NP-S   \n",
      "1   Merchant      Amazon.in           Standard  JNE3781  JNE3781-KR-XXXL   \n",
      "2     Amazon      Amazon.in          Expedited  JNE3371    JNE3371-KR-XL   \n",
      "3   Merchant      Amazon.in           Standard    J0341       J0341-DR-L   \n",
      "4     Amazon      Amazon.in          Expedited  JNE3671  JNE3671-TU-XXXL   \n",
      "\n",
      "        Category  ... Courier Status Qty currency  historical sales  \\\n",
      "0            Set  ...            NaN   0      INR            647.62   \n",
      "1          kurta  ...        Shipped   1      INR            406.00   \n",
      "2          kurta  ...        Shipped   1      INR            329.00   \n",
      "3  Western Dress  ...            NaN   0      INR            753.33   \n",
      "4            Top  ...        Shipped   1      INR            574.00   \n",
      "\n",
      "     ship-city   ship-state ship-postal-code ship-country  \\\n",
      "0       MUMBAI  MAHARASHTRA         400081.0           IN   \n",
      "1    BENGALURU    KARNATAKA         560085.0           IN   \n",
      "2  NAVI MUMBAI  MAHARASHTRA         410210.0           IN   \n",
      "3   PUDUCHERRY   PUDUCHERRY         605008.0           IN   \n",
      "4      CHENNAI   TAMIL NADU         600073.0           IN   \n",
      "\n",
      "                                       promotion-ids    B2B  \n",
      "0                                                NaN  False  \n",
      "1  Amazon PLCC Free-Financing Universal Merchant ...  False  \n",
      "2       IN Core Free Shipping 2015/04/08 23-48-5-108   True  \n",
      "3                                                NaN  False  \n",
      "4                                                NaN  False  \n",
      "\n",
      "[5 rows x 22 columns]\n"
     ]
    }
   ],
   "source": [
    "# Display the first few rows of the dataset\n",
    "print(data.head())"
   ]
  },
  {
   "cell_type": "markdown",
   "id": "22aa7168-52fe-4951-8159-60b1ec509cc7",
   "metadata": {},
   "source": [
    "Data Cleaning and Feature Engineering"
   ]
  },
  {
   "cell_type": "code",
   "execution_count": 10,
   "id": "56c3ff4d-53b5-4177-b4e8-99a315a0414d",
   "metadata": {},
   "outputs": [],
   "source": [
    "# Handle missing values\n",
    "data = data.dropna()"
   ]
  },
  {
   "cell_type": "code",
   "execution_count": 11,
   "id": "312778f7-4ade-4c64-b6d4-db3bcde5a6c6",
   "metadata": {},
   "outputs": [
    {
     "name": "stderr",
     "output_type": "stream",
     "text": [
      "C:\\Users\\05lok\\AppData\\Local\\Temp\\ipykernel_21776\\3801603520.py:2: UserWarning: Could not infer format, so each element will be parsed individually, falling back to `dateutil`. To ensure parsing is consistent and as-expected, please specify a format.\n",
      "  data['Date'] = pd.to_datetime(data['Date'])\n"
     ]
    }
   ],
   "source": [
    "# Convert date to datetime\n",
    "data['Date'] = pd.to_datetime(data['Date'])"
   ]
  },
  {
   "cell_type": "code",
   "execution_count": 12,
   "id": "648aa93e-acdb-4826-ab04-78a688e7019b",
   "metadata": {},
   "outputs": [],
   "source": [
    "# Create additional time-based features\n",
    "data['Month'] = data['Date'].dt.month\n",
    "data['DayOfWeek'] = data['Date'].dt.dayofweek\n",
    "data['Quarter'] = data['Date'].dt.quarter\n"
   ]
  },
  {
   "cell_type": "code",
   "execution_count": 13,
   "id": "8bebf98a-4560-4e88-972f-35ca003694b8",
   "metadata": {},
   "outputs": [],
   "source": [
    "# Drop the original date column\n",
    "data = data.drop(columns=['Date'])"
   ]
  },
  {
   "cell_type": "code",
   "execution_count": 14,
   "id": "8d29b005-d3a2-4ccf-87fa-e26c9f1ef9f1",
   "metadata": {},
   "outputs": [],
   "source": [
    "# One-hot encode categorical variables if any\n",
    "data = pd.get_dummies(data, columns=['promotion-ids'])"
   ]
  },
  {
   "cell_type": "code",
   "execution_count": 15,
   "id": "8e49ce54-5355-4d87-af17-e1aaaf819ffc",
   "metadata": {},
   "outputs": [],
   "source": [
    "# Define the target variable and features\n",
    "target = 'historical sales'\n",
    "features = data.drop(columns=[target])"
   ]
  },
  {
   "cell_type": "code",
   "execution_count": 16,
   "id": "10ef93d3-dc45-4377-a0f9-0b52bf7112ba",
   "metadata": {},
   "outputs": [],
   "source": [
    "# Split the data into training and testing sets\n",
    "X_train, X_test, y_train, y_test = train_test_split(features, data[target], test_size=0.2,random_state=42)"
   ]
  },
  {
   "cell_type": "code",
   "execution_count": 17,
   "id": "4d3457d8-db9d-4bcc-b3f1-09267de7746c",
   "metadata": {},
   "outputs": [],
   "source": [
    "# Standardize the features\n",
    "X_train_numeric = X_train.select_dtypes(include=['number'])\n",
    "X_test_numeric = X_test.select_dtypes(include=['number'])\n",
    "\n",
    "scaler = StandardScaler()\n",
    "X_train_scaled = scaler.fit_transform(X_train_numeric)\n",
    "X_test_scaled = scaler.transform(X_test_numeric)\n"
   ]
  },
  {
   "cell_type": "markdown",
   "id": "b12be217-a8b1-4b77-b6aa-8a145b587d3f",
   "metadata": {},
   "source": [
    "Step 3: Model Building\n",
    "We'll use a neural network for demand forecasting"
   ]
  },
  {
   "cell_type": "code",
   "execution_count": 18,
   "id": "384823f1-de03-4254-94fe-3095f09a433f",
   "metadata": {},
   "outputs": [
    {
     "name": "stderr",
     "output_type": "stream",
     "text": [
      "C:\\Users\\05lok\\anaconda3\\Lib\\site-packages\\keras\\src\\layers\\core\\dense.py:87: UserWarning: Do not pass an `input_shape`/`input_dim` argument to a layer. When using Sequential models, prefer using an `Input(shape)` object as the first layer in the model instead.\n",
      "  super().__init__(activity_regularizer=activity_regularizer, **kwargs)\n"
     ]
    }
   ],
   "source": [
    "# Define the model\n",
    "model = keras.Sequential([\n",
    "layers.Dense(128, activation='relu', input_shape=[X_train_scaled.shape[1]]),\n",
    "layers.Dense(64, activation='relu'),\n",
    "layers.Dense(32, activation='relu'),\n",
    "layers.Dense(1)\n",
    "])"
   ]
  },
  {
   "cell_type": "code",
   "execution_count": 19,
   "id": "c0d6e08c-f3fc-4457-80fd-aab6e11a3b7a",
   "metadata": {},
   "outputs": [],
   "source": [
    "# Compile the model\n",
    "model.compile(optimizer='adam', loss='mse')"
   ]
  },
  {
   "cell_type": "code",
   "execution_count": 20,
   "id": "6572e2bb-c4c6-40d4-80aa-6410a05e94cd",
   "metadata": {},
   "outputs": [
    {
     "name": "stdout",
     "output_type": "stream",
     "text": [
      "Epoch 1/50\n",
      "\u001b[1m1590/1590\u001b[0m \u001b[32m━━━━━━━━━━━━━━━━━━━━\u001b[0m\u001b[37m\u001b[0m \u001b[1m8s\u001b[0m 3ms/step - loss: 179580.6562 - val_loss: 74726.3359\n",
      "Epoch 2/50\n",
      "\u001b[1m1590/1590\u001b[0m \u001b[32m━━━━━━━━━━━━━━━━━━━━\u001b[0m\u001b[37m\u001b[0m \u001b[1m4s\u001b[0m 2ms/step - loss: 74364.1562 - val_loss: 73555.8828\n",
      "Epoch 3/50\n",
      "\u001b[1m1590/1590\u001b[0m \u001b[32m━━━━━━━━━━━━━━━━━━━━\u001b[0m\u001b[37m\u001b[0m \u001b[1m4s\u001b[0m 2ms/step - loss: 74412.0781 - val_loss: 73183.6797\n",
      "Epoch 4/50\n",
      "\u001b[1m1590/1590\u001b[0m \u001b[32m━━━━━━━━━━━━━━━━━━━━\u001b[0m\u001b[37m\u001b[0m \u001b[1m4s\u001b[0m 2ms/step - loss: 73126.1016 - val_loss: 73266.7812\n",
      "Epoch 5/50\n",
      "\u001b[1m1590/1590\u001b[0m \u001b[32m━━━━━━━━━━━━━━━━━━━━\u001b[0m\u001b[37m\u001b[0m \u001b[1m4s\u001b[0m 2ms/step - loss: 73813.4922 - val_loss: 74284.5781\n",
      "Epoch 6/50\n",
      "\u001b[1m1590/1590\u001b[0m \u001b[32m━━━━━━━━━━━━━━━━━━━━\u001b[0m\u001b[37m\u001b[0m \u001b[1m4s\u001b[0m 2ms/step - loss: 74386.6875 - val_loss: 73577.2500\n",
      "Epoch 7/50\n",
      "\u001b[1m1590/1590\u001b[0m \u001b[32m━━━━━━━━━━━━━━━━━━━━\u001b[0m\u001b[37m\u001b[0m \u001b[1m4s\u001b[0m 2ms/step - loss: 73772.0156 - val_loss: 73246.2969\n",
      "Epoch 8/50\n",
      "\u001b[1m1590/1590\u001b[0m \u001b[32m━━━━━━━━━━━━━━━━━━━━\u001b[0m\u001b[37m\u001b[0m \u001b[1m4s\u001b[0m 2ms/step - loss: 74171.5078 - val_loss: 74007.9453\n",
      "Epoch 9/50\n",
      "\u001b[1m1590/1590\u001b[0m \u001b[32m━━━━━━━━━━━━━━━━━━━━\u001b[0m\u001b[37m\u001b[0m \u001b[1m4s\u001b[0m 2ms/step - loss: 73474.2031 - val_loss: 73162.1641\n",
      "Epoch 10/50\n",
      "\u001b[1m1590/1590\u001b[0m \u001b[32m━━━━━━━━━━━━━━━━━━━━\u001b[0m\u001b[37m\u001b[0m \u001b[1m4s\u001b[0m 2ms/step - loss: 73466.3984 - val_loss: 73035.1797\n",
      "Epoch 11/50\n",
      "\u001b[1m1590/1590\u001b[0m \u001b[32m━━━━━━━━━━━━━━━━━━━━\u001b[0m\u001b[37m\u001b[0m \u001b[1m4s\u001b[0m 2ms/step - loss: 73989.7812 - val_loss: 73554.8125\n",
      "Epoch 12/50\n",
      "\u001b[1m1590/1590\u001b[0m \u001b[32m━━━━━━━━━━━━━━━━━━━━\u001b[0m\u001b[37m\u001b[0m \u001b[1m4s\u001b[0m 2ms/step - loss: 73284.2500 - val_loss: 74384.9766\n",
      "Epoch 13/50\n",
      "\u001b[1m1590/1590\u001b[0m \u001b[32m━━━━━━━━━━━━━━━━━━━━\u001b[0m\u001b[37m\u001b[0m \u001b[1m4s\u001b[0m 2ms/step - loss: 73644.4844 - val_loss: 73145.5703\n",
      "Epoch 14/50\n",
      "\u001b[1m1590/1590\u001b[0m \u001b[32m━━━━━━━━━━━━━━━━━━━━\u001b[0m\u001b[37m\u001b[0m \u001b[1m4s\u001b[0m 2ms/step - loss: 73713.1797 - val_loss: 73062.1484\n",
      "Epoch 15/50\n",
      "\u001b[1m1590/1590\u001b[0m \u001b[32m━━━━━━━━━━━━━━━━━━━━\u001b[0m\u001b[37m\u001b[0m \u001b[1m4s\u001b[0m 2ms/step - loss: 73243.1562 - val_loss: 73520.0703\n",
      "Epoch 16/50\n",
      "\u001b[1m1590/1590\u001b[0m \u001b[32m━━━━━━━━━━━━━━━━━━━━\u001b[0m\u001b[37m\u001b[0m \u001b[1m4s\u001b[0m 2ms/step - loss: 74669.2656 - val_loss: 73496.7422\n",
      "Epoch 17/50\n",
      "\u001b[1m1590/1590\u001b[0m \u001b[32m━━━━━━━━━━━━━━━━━━━━\u001b[0m\u001b[37m\u001b[0m \u001b[1m4s\u001b[0m 2ms/step - loss: 72866.0000 - val_loss: 73025.9141\n",
      "Epoch 18/50\n",
      "\u001b[1m1590/1590\u001b[0m \u001b[32m━━━━━━━━━━━━━━━━━━━━\u001b[0m\u001b[37m\u001b[0m \u001b[1m4s\u001b[0m 2ms/step - loss: 73548.5703 - val_loss: 73292.7734\n",
      "Epoch 19/50\n",
      "\u001b[1m1590/1590\u001b[0m \u001b[32m━━━━━━━━━━━━━━━━━━━━\u001b[0m\u001b[37m\u001b[0m \u001b[1m4s\u001b[0m 2ms/step - loss: 73913.4922 - val_loss: 72961.0859\n",
      "Epoch 20/50\n",
      "\u001b[1m1590/1590\u001b[0m \u001b[32m━━━━━━━━━━━━━━━━━━━━\u001b[0m\u001b[37m\u001b[0m \u001b[1m4s\u001b[0m 2ms/step - loss: 75019.1797 - val_loss: 73508.2578\n",
      "Epoch 21/50\n",
      "\u001b[1m1590/1590\u001b[0m \u001b[32m━━━━━━━━━━━━━━━━━━━━\u001b[0m\u001b[37m\u001b[0m \u001b[1m4s\u001b[0m 2ms/step - loss: 74313.0391 - val_loss: 73031.7188\n",
      "Epoch 22/50\n",
      "\u001b[1m1590/1590\u001b[0m \u001b[32m━━━━━━━━━━━━━━━━━━━━\u001b[0m\u001b[37m\u001b[0m \u001b[1m4s\u001b[0m 2ms/step - loss: 74090.3750 - val_loss: 72893.8750\n",
      "Epoch 23/50\n",
      "\u001b[1m1590/1590\u001b[0m \u001b[32m━━━━━━━━━━━━━━━━━━━━\u001b[0m\u001b[37m\u001b[0m \u001b[1m4s\u001b[0m 2ms/step - loss: 73275.4531 - val_loss: 74042.1328\n",
      "Epoch 24/50\n",
      "\u001b[1m1590/1590\u001b[0m \u001b[32m━━━━━━━━━━━━━━━━━━━━\u001b[0m\u001b[37m\u001b[0m \u001b[1m4s\u001b[0m 2ms/step - loss: 73672.4844 - val_loss: 73225.4141\n",
      "Epoch 25/50\n",
      "\u001b[1m1590/1590\u001b[0m \u001b[32m━━━━━━━━━━━━━━━━━━━━\u001b[0m\u001b[37m\u001b[0m \u001b[1m4s\u001b[0m 2ms/step - loss: 74047.9062 - val_loss: 73388.5938\n",
      "Epoch 26/50\n",
      "\u001b[1m1590/1590\u001b[0m \u001b[32m━━━━━━━━━━━━━━━━━━━━\u001b[0m\u001b[37m\u001b[0m \u001b[1m4s\u001b[0m 2ms/step - loss: 73686.7109 - val_loss: 73891.3438\n",
      "Epoch 27/50\n",
      "\u001b[1m1590/1590\u001b[0m \u001b[32m━━━━━━━━━━━━━━━━━━━━\u001b[0m\u001b[37m\u001b[0m \u001b[1m4s\u001b[0m 2ms/step - loss: 74320.6875 - val_loss: 73585.5547\n",
      "Epoch 28/50\n",
      "\u001b[1m1590/1590\u001b[0m \u001b[32m━━━━━━━━━━━━━━━━━━━━\u001b[0m\u001b[37m\u001b[0m \u001b[1m4s\u001b[0m 2ms/step - loss: 73564.9141 - val_loss: 73213.3359\n",
      "Epoch 29/50\n",
      "\u001b[1m1590/1590\u001b[0m \u001b[32m━━━━━━━━━━━━━━━━━━━━\u001b[0m\u001b[37m\u001b[0m \u001b[1m4s\u001b[0m 2ms/step - loss: 73745.8203 - val_loss: 73243.4062\n",
      "Epoch 30/50\n",
      "\u001b[1m1590/1590\u001b[0m \u001b[32m━━━━━━━━━━━━━━━━━━━━\u001b[0m\u001b[37m\u001b[0m \u001b[1m4s\u001b[0m 2ms/step - loss: 73203.6641 - val_loss: 73556.4062\n",
      "Epoch 31/50\n",
      "\u001b[1m1590/1590\u001b[0m \u001b[32m━━━━━━━━━━━━━━━━━━━━\u001b[0m\u001b[37m\u001b[0m \u001b[1m4s\u001b[0m 2ms/step - loss: 73818.6719 - val_loss: 72983.2969\n",
      "Epoch 32/50\n",
      "\u001b[1m1590/1590\u001b[0m \u001b[32m━━━━━━━━━━━━━━━━━━━━\u001b[0m\u001b[37m\u001b[0m \u001b[1m4s\u001b[0m 2ms/step - loss: 73001.2266 - val_loss: 73051.5469\n",
      "Epoch 33/50\n",
      "\u001b[1m1590/1590\u001b[0m \u001b[32m━━━━━━━━━━━━━━━━━━━━\u001b[0m\u001b[37m\u001b[0m \u001b[1m4s\u001b[0m 2ms/step - loss: 72860.5078 - val_loss: 73317.0156\n",
      "Epoch 34/50\n",
      "\u001b[1m1590/1590\u001b[0m \u001b[32m━━━━━━━━━━━━━━━━━━━━\u001b[0m\u001b[37m\u001b[0m \u001b[1m4s\u001b[0m 2ms/step - loss: 72553.4531 - val_loss: 73249.5078\n",
      "Epoch 35/50\n",
      "\u001b[1m1590/1590\u001b[0m \u001b[32m━━━━━━━━━━━━━━━━━━━━\u001b[0m\u001b[37m\u001b[0m \u001b[1m4s\u001b[0m 2ms/step - loss: 74223.1562 - val_loss: 73644.7266\n",
      "Epoch 36/50\n",
      "\u001b[1m1590/1590\u001b[0m \u001b[32m━━━━━━━━━━━━━━━━━━━━\u001b[0m\u001b[37m\u001b[0m \u001b[1m4s\u001b[0m 2ms/step - loss: 72635.2656 - val_loss: 72876.1562\n",
      "Epoch 37/50\n",
      "\u001b[1m1590/1590\u001b[0m \u001b[32m━━━━━━━━━━━━━━━━━━━━\u001b[0m\u001b[37m\u001b[0m \u001b[1m4s\u001b[0m 2ms/step - loss: 72712.9062 - val_loss: 73180.1484\n",
      "Epoch 38/50\n",
      "\u001b[1m1590/1590\u001b[0m \u001b[32m━━━━━━━━━━━━━━━━━━━━\u001b[0m\u001b[37m\u001b[0m \u001b[1m4s\u001b[0m 2ms/step - loss: 73742.3438 - val_loss: 73085.7266\n",
      "Epoch 39/50\n",
      "\u001b[1m1590/1590\u001b[0m \u001b[32m━━━━━━━━━━━━━━━━━━━━\u001b[0m\u001b[37m\u001b[0m \u001b[1m4s\u001b[0m 2ms/step - loss: 72756.6719 - val_loss: 73017.7266\n",
      "Epoch 40/50\n",
      "\u001b[1m1590/1590\u001b[0m \u001b[32m━━━━━━━━━━━━━━━━━━━━\u001b[0m\u001b[37m\u001b[0m \u001b[1m4s\u001b[0m 2ms/step - loss: 73566.1641 - val_loss: 73043.0703\n",
      "Epoch 41/50\n",
      "\u001b[1m1590/1590\u001b[0m \u001b[32m━━━━━━━━━━━━━━━━━━━━\u001b[0m\u001b[37m\u001b[0m \u001b[1m4s\u001b[0m 2ms/step - loss: 73316.8203 - val_loss: 72968.9844\n",
      "Epoch 42/50\n",
      "\u001b[1m1590/1590\u001b[0m \u001b[32m━━━━━━━━━━━━━━━━━━━━\u001b[0m\u001b[37m\u001b[0m \u001b[1m4s\u001b[0m 2ms/step - loss: 73337.3203 - val_loss: 73228.5469\n",
      "Epoch 43/50\n",
      "\u001b[1m1590/1590\u001b[0m \u001b[32m━━━━━━━━━━━━━━━━━━━━\u001b[0m\u001b[37m\u001b[0m \u001b[1m4s\u001b[0m 2ms/step - loss: 73272.6875 - val_loss: 73133.0625\n",
      "Epoch 44/50\n",
      "\u001b[1m1590/1590\u001b[0m \u001b[32m━━━━━━━━━━━━━━━━━━━━\u001b[0m\u001b[37m\u001b[0m \u001b[1m4s\u001b[0m 2ms/step - loss: 72878.5781 - val_loss: 73269.1719\n",
      "Epoch 45/50\n",
      "\u001b[1m1590/1590\u001b[0m \u001b[32m━━━━━━━━━━━━━━━━━━━━\u001b[0m\u001b[37m\u001b[0m \u001b[1m4s\u001b[0m 2ms/step - loss: 73381.0859 - val_loss: 72922.4453\n",
      "Epoch 46/50\n",
      "\u001b[1m1590/1590\u001b[0m \u001b[32m━━━━━━━━━━━━━━━━━━━━\u001b[0m\u001b[37m\u001b[0m \u001b[1m4s\u001b[0m 2ms/step - loss: 73078.1406 - val_loss: 72841.8750\n",
      "Epoch 47/50\n",
      "\u001b[1m1590/1590\u001b[0m \u001b[32m━━━━━━━━━━━━━━━━━━━━\u001b[0m\u001b[37m\u001b[0m \u001b[1m4s\u001b[0m 2ms/step - loss: 73498.3906 - val_loss: 73164.4766\n",
      "Epoch 48/50\n",
      "\u001b[1m1590/1590\u001b[0m \u001b[32m━━━━━━━━━━━━━━━━━━━━\u001b[0m\u001b[37m\u001b[0m \u001b[1m4s\u001b[0m 2ms/step - loss: 72600.3125 - val_loss: 73276.1875\n",
      "Epoch 49/50\n",
      "\u001b[1m1590/1590\u001b[0m \u001b[32m━━━━━━━━━━━━━━━━━━━━\u001b[0m\u001b[37m\u001b[0m \u001b[1m4s\u001b[0m 2ms/step - loss: 73716.7891 - val_loss: 73090.3281\n",
      "Epoch 50/50\n",
      "\u001b[1m1590/1590\u001b[0m \u001b[32m━━━━━━━━━━━━━━━━━━━━\u001b[0m\u001b[37m\u001b[0m \u001b[1m4s\u001b[0m 2ms/step - loss: 73423.6484 - val_loss: 73672.4375\n"
     ]
    }
   ],
   "source": [
    "# Train the model\n",
    "history = model.fit(X_train_scaled, y_train, epochs=50, validation_split=0.2)"
   ]
  },
  {
   "cell_type": "code",
   "execution_count": 21,
   "id": "bbbeacb7-c969-4acc-b084-c1d36a3c560c",
   "metadata": {},
   "outputs": [
    {
     "data": {
      "image/png": "[encoded data removed]",
      "text/plain": [
       "<Figure size 640x480 with 1 Axes>"
      ]
     },
     "metadata": {},
     "output_type": "display_data"
    }
   ],
   "source": [
    "# Plot training and validation loss\n",
    "plt.plot(history.history['loss'], label='train')\n",
    "plt.plot(history.history['val_loss'], label='val')\n",
    "plt.xlabel('Epoch')\n",
    "plt.ylabel('Mean Squared Error')\n",
    "plt.legend()\n",
    "plt.show()"
   ]
  },
  {
   "cell_type": "markdown",
   "id": "e828a700-0c37-47b4-bb26-6c32d3f2b877",
   "metadata": {},
   "source": [
    "Model Evaluation\n",
    "Evaluate the model on the test set"
   ]
  },
  {
   "cell_type": "code",
   "execution_count": 22,
   "id": "1dcd8602-8984-4c9b-bd50-fe229cfb4a35",
   "metadata": {},
   "outputs": [
    {
     "name": "stdout",
     "output_type": "stream",
     "text": [
      "\u001b[1m497/497\u001b[0m \u001b[32m━━━━━━━━━━━━━━━━━━━━\u001b[0m\u001b[37m\u001b[0m \u001b[1m1s\u001b[0m 2ms/step\n",
      "Mean Squared Error on Test Set: 73388.08236692638\n"
     ]
    }
   ],
   "source": [
    "# Evaluate the model\n",
    "test_predictions = model.predict(X_test_scaled)\n",
    "mse = mean_squared_error(y_test, test_predictions)\n",
    "print(f'Mean Squared Error on Test Set: {mse}')"
   ]
  },
  {
   "cell_type": "code",
   "execution_count": 23,
   "id": "b2154169-32dc-4134-9ba7-c6b05aa0fb8a",
   "metadata": {},
   "outputs": [
    {
     "data": {
      "image/png": "[encoded data removed]",
      "text/plain": [
       "<Figure size 640x480 with 1 Axes>"
      ]
     },
     "metadata": {},
     "output_type": "display_data"
    }
   ],
   "source": [
    "# Plot true vs predicted values\n",
    "plt.scatter(y_test, test_predictions)\n",
    "plt.xlabel('True Values')\n",
    "plt.ylabel('Predictions')\n",
    "plt.title('True vs Predicted Sales')\n",
    "plt.show()"
   ]
  },
  {
   "cell_type": "markdown",
   "id": "54225e26-85a1-401d-a6e4-5692e75c68fb",
   "metadata": {},
   "source": [
    ": Model Deployment\n",
    "For simplicity, we'll use a saved model to make future predictions."
   ]
  },
  {
   "cell_type": "code",
   "execution_count": 25,
   "id": "b57984df-747f-47bd-9a2d-d9c9efa9ce5f",
   "metadata": {},
   "outputs": [
    {
     "name": "stderr",
     "output_type": "stream",
     "text": [
      "WARNING:absl:You are saving your model as an HDF5 file via `model.save()` or `keras.saving.save_model(model)`. This file format is considered legacy. We recommend using instead the native Keras format, e.g. `model.save('my_model.keras')` or `keras.saving.save_model(model, 'my_model.keras')`. \n"
     ]
    }
   ],
   "source": [
    "# Save the model\n",
    "model.save('forecasting_model.h5')"
   ]
  },
  {
   "cell_type": "markdown",
   "id": "fdb63ced-144c-40a8-ade3-beface417bd2",
   "metadata": {},
   "source": [
    "Conclusion: The neural network model provides accurate demand forecasts,\n",
    "which can be used to optimize inventory levels, reduce stockouts, and improve\n",
    "supply chain efficiency. Regular updates and retraining of the model with new\n",
    "data will help maintain its accuracy"
   ]
  },
  {
   "cell_type": "code",
   "execution_count": null,
   "id": "7018f688-e8b7-42cc-8f60-d95a331ee97e",
   "metadata": {},
   "outputs": [],
   "source": []
  }
 ],
 "metadata": {
  "kernelspec": {
   "display_name": "Python 3 (ipykernel)",
   "language": "python",
   "name": "python3"
  },
  "language_info": {
   "codemirror_mode": {
    "name": "ipython",
    "version": 3
   },
   "file_extension": ".py",
   "mimetype": "text/x-python",
   "name": "python",
   "nbconvert_exporter": "python",
   "pygments_lexer": "ipython3",
   "version": "3.12.4"
  }
 },
 "nbformat": 4,
 "nbformat_minor": 5
}
